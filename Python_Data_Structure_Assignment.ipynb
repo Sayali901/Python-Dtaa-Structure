{
  "nbformat": 4,
  "nbformat_minor": 0,
  "metadata": {
    "colab": {
      "provenance": []
    },
    "kernelspec": {
      "name": "python3",
      "display_name": "Python 3"
    },
    "language_info": {
      "name": "python"
    }
  },
  "cells": [
    {
      "cell_type": "markdown",
      "source": [
        "Data Types and Structures Questions\n",
        "\n",
        "1) What are data structures, and why are they important?\n",
        "   - Data structures are fundamental ways to organize and store data to enable efficient access and manipulation, and they are crucial for writing efficient and understandable code. They are essential for computer science because they allow users and systems to organize, work with, and store data efficiently.\n",
        "\n",
        "2) Explain the difference between mutable and immutable data types with examples.\n",
        "   - Mutable data types allow their values to be modified after creation, while immutable data types cannot be changed once created. In Python, lists and dictionaries are mutable, whereas strings and tuples are immutable.  \n",
        "    my_list = [1, 2, 3]\n",
        "        my_list.append(4)  # Add an element\n",
        "        my_list[0] = 5  # Modify an element\n",
        "        print(my_list)  # Output: [5, 2, 3, 4]  \n",
        "        list is mutable.\n",
        "   \n",
        "    my_tuple = (1, 2, 3)\n",
        "        # my_tuple[0] = 4  # This will raise an error.\n",
        "        tuples are immutable.    \n",
        "\n",
        "\n",
        "3) What are the main differences between lists and tuples in Python?\n",
        "   - The main difference between lists and tuples in Python lies in their mutability: lists are mutable (changeable), while tuples are immutable (unchangeable).\n",
        "\n",
        "\n",
        "4) Describe how dictionaries store data.   \n",
        "   - Dictionaries are used to store data values in key:value pairs. A dictionary is a collection which is ordered*, changeable and do not allow duplicates.\n",
        "\n",
        "5) Why might you use a set instead of a list in Python?\n",
        "   - Because sets cannot have multiple occurrences of the same element, it makes sets highly useful to efficiently remove duplicate values from a list or tuple and to perform common math operations like unions and intersections.  \n",
        "\n",
        "\n",
        "6) What is a string in Python, and how is it different from a list?\n",
        "   - In Python, a string is a sequence of characters enclosed in single or double quotes, while a list is an ordered, mutable collection of items (which can be of any data type) enclosed in square brackets.\n",
        "\n",
        "\n",
        "7) How do tuples ensure data integrity in Python?   \n",
        "   - Tuples are immutable to ensure that their contents remain constant throughout their lifecycle, guaranteeing data integrity and reliability. This immutability allows tuples to be used as keys in dictionaries and elements in sets, as they can be hashed.\n",
        "\n",
        "\n",
        "8) What is a hash table, and how does it relate to dictionaries in Python?   \n",
        "   - A hash table is a data structure that stores key-value pairs, using a hash function to map keys to indices in an array (or \"buckets\") for fast lookup, and Python dictionaries are built upon this concept.\n",
        "\n",
        "\n",
        "9) Can lists contain different data types in Python?  \n",
        "   - In a list, you can store objects of any type. You can also mix objects of different types within the same list, although list elements often share the same type.\n",
        "\n",
        "\n",
        "10)Explain why strings are immutable in Python?\n",
        "   - Strings in Python are “immutable” which means they can not be changed after they are created. Some other immutable data types are integers, float, boolean, etc.\n",
        "   The immutable term generally refers to their property of being immune to change or modification after their creation, the same case with the string data type in Python which is immutable.\n",
        "\n",
        "\n",
        "11)What advantages do dictionaries offer over lists for certain tasks?\n",
        "   - Advantages of dictionaries over lists\n",
        "     \n",
        "     Faster data retrieval:- Dictionaries use hash tables to quickly access values based on keys.\n",
        "\n",
        "     Faster lookups:- Dictionaries are faster than lists for lookups.\n",
        "\n",
        "     Easier to read:- Dictionaries make code easier to read when generating key-value pairs.\n",
        "\n",
        "     Better for configurations and caches:- Dictionaries are better for quick data look-ups, configurations, or caches.\n",
        "\n",
        "\n",
        "12)Describe a scenario where using a tuple would be preferabl\n",
        "     over a list.\n",
        "     \n",
        "  - Use a list if you need a mutable collection of items where you may need to add, remove, or change elements. Lists are more flexible and have more built-in methods, making them ideal for dynamic collections. Use a tuple if you need an immutable collection where the elements won't change after creation.     \n",
        "     \n",
        "\n",
        "\n",
        "13)How do sets handle duplicate values in Python?\n",
        "   - Python sets cannot have duplicate values. While you cannot modify the individual elements directly, you can still add or remove elements from the set. Output: The first code explains that the set cannot have a duplicate value.\n",
        "\n",
        "\n",
        "14) How does the “in” keyword work differently for lists and dictionaries?\n",
        "- The in operator uses different algorithms for lists and dictionaries. For lists, it uses a search algorithm. As the list gets longer, the search time gets longer in direct\n",
        "proportion. For dictionaries, Python uses an algorithm called a hashtable that has a remarkable property: the in operator takes about the same amount of time no matter how many items there are in a dictionary.\n",
        "\n",
        "\n",
        "15)Can you modify the elements of a tuple? Explain why or why not.\n",
        "   - No, you cannot directly modify the elements of a tuple in Python because tuples are immutable, meaning their contents cannot be changed after creation.\n",
        "  \n",
        "   why not---\n",
        "\n",
        "- Immutability:    Tuples are designed to be a fixed, ordered collection of items, and allowing modification would violate this fundamental principle.\n",
        "\n",
        "- Data Integrity: Immutability helps ensure data integrity by preventing accidental or unintended changes to the tuple's contents.\n",
        "- Efficiency: Because tuples are immutable, the Python interpreter can optimize their storage and access, leading to potentially faster performance.\n",
        "-Alternative: If you need a mutable sequence, use a list instead.\n",
        "\n",
        "\n",
        "16) What is a nested dictionary, and give an example of its use case.\n",
        "   - A nested dictionary is a dictionary where the values are themselves dictionaries, allowing for a hierarchical data structure.\n",
        "   \n",
        "   Example of a nested dictionary\n",
        "\n",
        " people = {1: {'name': 'John', 'age': '27', 'sex': 'Male'},\n",
        "          2: {'name': 'Marie', 'age': '22', 'sex': 'Female'}}\n",
        "          print(people)\n",
        "\n",
        "\n",
        "\n",
        "17) Describe the time complexity of accessing elements in a dictionary.\n",
        "  - Accessing elements in a dictionary (or hash map) by key has an average time complexity of O(1), meaning it takes constant time, regardless of the dictionary's size.           \n",
        "\n",
        "\n",
        "\n",
        "18)In what situations are lists preferred over dictionaries?\n",
        "   - For quick data look-ups, configurations, or caches, favor dictionaries. For ordered collections and sequence operations, such as maintaining a stack or queue, lists are more suitable.\n",
        "\n",
        "\n",
        "\n",
        "19)Why are dictionaries considered unordered, and how does that affect data retrieval?\n",
        "   - Dictionaries are considered unordered because they don't maintain a specific order of elements based on insertion, unlike lists or tuples. This means data retrieval is based on keys, not positions, and the order of keys in a dictionary can vary during iteration or printing.    \n",
        "\n",
        "\n",
        "\n",
        "20)Explain the difference between a list and a dictionary in terms of data retrieval.   \n",
        "  - In data retrieval, lists access elements by their numerical index (starting from 0), while dictionaries access elements (values) by their unique key, offering faster lookups for specific data based on identifiers.   \n",
        "   \n"
      ],
      "metadata": {
        "id": "6l5v35nhUQYn"
      }
    },
    {
      "cell_type": "code",
      "source": [
        "#Write a code to create a string with your name and print it\n",
        "a = \"Sayali\"\n",
        "print(a)"
      ],
      "metadata": {
        "colab": {
          "base_uri": "https://localhost:8080/"
        },
        "id": "jra5PjcvjOsV",
        "outputId": "2b4a1de5-0f24-47c5-ae7c-01aaf06ebbd4"
      },
      "execution_count": 1,
      "outputs": [
        {
          "output_type": "stream",
          "name": "stdout",
          "text": [
            "Sayali\n"
          ]
        }
      ]
    },
    {
      "cell_type": "code",
      "source": [
        "#Write a code to find the length of the string \"Hello World\"\n",
        "a=\"Hello World\"\n",
        "len(a)"
      ],
      "metadata": {
        "colab": {
          "base_uri": "https://localhost:8080/"
        },
        "id": "qVX3qVExjvB3",
        "outputId": "dfcb9b5d-e8aa-4c49-8b49-3db3573be571"
      },
      "execution_count": 2,
      "outputs": [
        {
          "output_type": "execute_result",
          "data": {
            "text/plain": [
              "11"
            ]
          },
          "metadata": {},
          "execution_count": 2
        }
      ]
    },
    {
      "cell_type": "code",
      "source": [
        "#Write a code to slice the first 3 characters from the string \"Python Programming\"\n",
        "a=\"python programming\"\n",
        "a[0:3]\n"
      ],
      "metadata": {
        "colab": {
          "base_uri": "https://localhost:8080/",
          "height": 36
        },
        "id": "42BMTe2vjvU3",
        "outputId": "6ed660dc-cd6e-4377-f824-dbcdae221508"
      },
      "execution_count": 4,
      "outputs": [
        {
          "output_type": "execute_result",
          "data": {
            "text/plain": [
              "'pyt'"
            ],
            "application/vnd.google.colaboratory.intrinsic+json": {
              "type": "string"
            }
          },
          "metadata": {},
          "execution_count": 4
        }
      ]
    },
    {
      "cell_type": "code",
      "source": [
        "#Write a code to convert the string \"hello\" to uppercase\n",
        "a=\"hello\"\n",
        "a.upper()"
      ],
      "metadata": {
        "colab": {
          "base_uri": "https://localhost:8080/",
          "height": 36
        },
        "id": "8uYbr5NckwB9",
        "outputId": "9a7ac7e2-0f6d-4f5f-bb5f-51d5a86f897b"
      },
      "execution_count": 5,
      "outputs": [
        {
          "output_type": "execute_result",
          "data": {
            "text/plain": [
              "'HELLO'"
            ],
            "application/vnd.google.colaboratory.intrinsic+json": {
              "type": "string"
            }
          },
          "metadata": {},
          "execution_count": 5
        }
      ]
    },
    {
      "cell_type": "code",
      "source": [
        "#Write a code to replace the word \"apple\" with \"orange\" in the string \"I like apple\"\n",
        "a=\"I like apple\"\n",
        "a[2].replace(\"apple\",\"oraange\")\n",
        "print(a)"
      ],
      "metadata": {
        "colab": {
          "base_uri": "https://localhost:8080/"
        },
        "id": "Wbhf396qkwWR",
        "outputId": "2617a33c-5e74-44fd-ebbf-7aafc9b67788"
      },
      "execution_count": 9,
      "outputs": [
        {
          "output_type": "stream",
          "name": "stdout",
          "text": [
            "I like apple\n"
          ]
        }
      ]
    },
    {
      "cell_type": "code",
      "source": [
        "#Write a code to create a list with numbers 1 to 5 and print it\n",
        "a=list(range(0,6))\n",
        "print(a)"
      ],
      "metadata": {
        "colab": {
          "base_uri": "https://localhost:8080/"
        },
        "id": "laD9U-1nkwmG",
        "outputId": "d8e14b5d-f6a6-493d-af4d-b1458058928e"
      },
      "execution_count": 12,
      "outputs": [
        {
          "output_type": "stream",
          "name": "stdout",
          "text": [
            "[0, 1, 2, 3, 4, 5]\n"
          ]
        }
      ]
    },
    {
      "cell_type": "code",
      "source": [
        "#Write a code to append the number 10 to the list [1, 2, 3, 4]\n",
        "a=[1,2,3,4]\n",
        "a.append(10)\n",
        "print(a)"
      ],
      "metadata": {
        "colab": {
          "base_uri": "https://localhost:8080/"
        },
        "id": "0OR1R4JFqaZ9",
        "outputId": "72eb4c3d-f232-48cc-c183-4997f07b6f2b"
      },
      "execution_count": 14,
      "outputs": [
        {
          "output_type": "stream",
          "name": "stdout",
          "text": [
            "[1, 2, 3, 4, 10]\n"
          ]
        }
      ]
    },
    {
      "cell_type": "code",
      "source": [
        "#Write a code to remove the number 3 from the list [1, 2, 3, 4, 5]\n",
        "a=[1,2,3,4,5]\n",
        "a.remove(3)\n",
        "print(a)"
      ],
      "metadata": {
        "colab": {
          "base_uri": "https://localhost:8080/"
        },
        "id": "o-2OEP6pqaqv",
        "outputId": "ee74439d-33b5-4567-8c8e-df4d6cd2d401"
      },
      "execution_count": 15,
      "outputs": [
        {
          "output_type": "stream",
          "name": "stdout",
          "text": [
            "[1, 2, 4, 5]\n"
          ]
        }
      ]
    },
    {
      "cell_type": "code",
      "source": [
        "#Write a code to access the second element in the list ['a', 'b', 'c', 'd']\n",
        "L=['a','b','c','d']\n",
        "L[1]"
      ],
      "metadata": {
        "colab": {
          "base_uri": "https://localhost:8080/",
          "height": 36
        },
        "id": "t7eurXHTqa6N",
        "outputId": "7230cc7c-668e-4c18-e4f6-11fcd90e1995"
      },
      "execution_count": 16,
      "outputs": [
        {
          "output_type": "execute_result",
          "data": {
            "text/plain": [
              "'b'"
            ],
            "application/vnd.google.colaboratory.intrinsic+json": {
              "type": "string"
            }
          },
          "metadata": {},
          "execution_count": 16
        }
      ]
    },
    {
      "cell_type": "code",
      "source": [
        "#Write a code to reverse the list [10, 20, 30, 40, 50]\n",
        "L=[10,20,30,40,50]\n",
        "L[::-1]"
      ],
      "metadata": {
        "colab": {
          "base_uri": "https://localhost:8080/"
        },
        "id": "GHBlONvPqbLF",
        "outputId": "a06bd6ea-5598-42f9-d46f-e54ccf019a8b"
      },
      "execution_count": 18,
      "outputs": [
        {
          "output_type": "execute_result",
          "data": {
            "text/plain": [
              "[50, 40, 30, 20, 10]"
            ]
          },
          "metadata": {},
          "execution_count": 18
        }
      ]
    },
    {
      "cell_type": "code",
      "source": [
        " #Write a code to create a tuple with the elements 100, 200, 300 and print it\n",
        " a=(100,200,300)\n",
        " print(a)"
      ],
      "metadata": {
        "colab": {
          "base_uri": "https://localhost:8080/"
        },
        "id": "SHDi8xHIqbbf",
        "outputId": "65553a59-3102-4674-d0ac-ec1dac6387ef"
      },
      "execution_count": 19,
      "outputs": [
        {
          "output_type": "stream",
          "name": "stdout",
          "text": [
            "(100, 200, 300)\n"
          ]
        }
      ]
    },
    {
      "cell_type": "code",
      "source": [
        "#Write a code to access the second-to-last element of the tuple ('red', 'green', 'blue', 'yellow')\n",
        "t=('red','green','blue','yellow')\n",
        "b=t[1:4]\n",
        "print(b)"
      ],
      "metadata": {
        "colab": {
          "base_uri": "https://localhost:8080/"
        },
        "id": "zixv7ZJ-tlR6",
        "outputId": "45d32209-270e-4e2a-9e94-4fe2229f0487"
      },
      "execution_count": 22,
      "outputs": [
        {
          "output_type": "stream",
          "name": "stdout",
          "text": [
            "('green', 'blue', 'yellow')\n"
          ]
        }
      ]
    },
    {
      "cell_type": "code",
      "source": [
        "#Write a code to find the minimum number in the tuple (10, 20, 5, 15)\n",
        "t=(10,20,5,15)\n",
        "min(t)"
      ],
      "metadata": {
        "colab": {
          "base_uri": "https://localhost:8080/"
        },
        "id": "W2to4-xqtldO",
        "outputId": "9fc4687f-b8e4-4984-9682-8f1f56e345e7"
      },
      "execution_count": 10,
      "outputs": [
        {
          "output_type": "execute_result",
          "data": {
            "text/plain": [
              "5"
            ]
          },
          "metadata": {},
          "execution_count": 10
        }
      ]
    },
    {
      "cell_type": "code",
      "source": [
        "#Write a code to find the index of the element \"cat\" in the tuple ('dog', 'cat', 'rabbit')\n",
        "t=('dog','cat','rabbit')\n",
        "t.index('cat')"
      ],
      "metadata": {
        "colab": {
          "base_uri": "https://localhost:8080/"
        },
        "id": "GVnbi6tStlsT",
        "outputId": "0bfbbbb3-093f-4e06-e848-9611cf81b506"
      },
      "execution_count": 26,
      "outputs": [
        {
          "output_type": "execute_result",
          "data": {
            "text/plain": [
              "1"
            ]
          },
          "metadata": {},
          "execution_count": 26
        }
      ]
    },
    {
      "cell_type": "code",
      "source": [
        " #Write a code to create a tuple containing three different fruits and check if \"kiwi\" is in it\n",
        " a=('mango','kiwi','orange')\n",
        " 'kiwi'in a"
      ],
      "metadata": {
        "colab": {
          "base_uri": "https://localhost:8080/"
        },
        "id": "9BCZ_fnGtl6z",
        "outputId": "895aa28f-bcfc-4ad5-b09d-a9e1950ad0c2"
      },
      "execution_count": 27,
      "outputs": [
        {
          "output_type": "execute_result",
          "data": {
            "text/plain": [
              "True"
            ]
          },
          "metadata": {},
          "execution_count": 27
        }
      ]
    },
    {
      "cell_type": "code",
      "source": [
        " #Write a code to create a set with the elements 'a', 'b', 'c' and print it\n",
        " s={'a','b','c'}\n",
        " print(s)"
      ],
      "metadata": {
        "colab": {
          "base_uri": "https://localhost:8080/"
        },
        "id": "OFIjxWf7tmIx",
        "outputId": "b22df9fa-b235-4e6c-f2a5-de6b558fde94"
      },
      "execution_count": 28,
      "outputs": [
        {
          "output_type": "stream",
          "name": "stdout",
          "text": [
            "{'c', 'a', 'b'}\n"
          ]
        }
      ]
    },
    {
      "cell_type": "code",
      "source": [
        "# Write a code to clear all elements from the set {1, 2, 3, 4, 5}\n",
        "s={1,2,3,4,5}\n",
        "s.clear()\n",
        "print(s)"
      ],
      "metadata": {
        "colab": {
          "base_uri": "https://localhost:8080/"
        },
        "id": "5krvvAMJtmaI",
        "outputId": "3e616053-eecc-4fb7-d946-dbd4e960f14a"
      },
      "execution_count": 29,
      "outputs": [
        {
          "output_type": "stream",
          "name": "stdout",
          "text": [
            "set()\n"
          ]
        }
      ]
    },
    {
      "cell_type": "code",
      "source": [
        " #Write a code to remove the element 4 from the set {1, 2, 3, 4}\n",
        " s={1,2,3,4}\n",
        " s.remove(4)\n",
        " print(s)"
      ],
      "metadata": {
        "colab": {
          "base_uri": "https://localhost:8080/"
        },
        "id": "7oT5eVW0qbtE",
        "outputId": "6a2016ae-5b05-4328-90fd-6170e8dbdef7"
      },
      "execution_count": 30,
      "outputs": [
        {
          "output_type": "stream",
          "name": "stdout",
          "text": [
            "{1, 2, 3}\n"
          ]
        }
      ]
    },
    {
      "cell_type": "code",
      "source": [
        " #Write a code to find the union of two sets {1, 2, 3} and {3, 4, 5}\n",
        " a={1,2,3}\n",
        " b={3,4,5}\n",
        " c=a|b\n",
        " print(c)"
      ],
      "metadata": {
        "colab": {
          "base_uri": "https://localhost:8080/"
        },
        "id": "MCnZuynLkw0r",
        "outputId": "8e8a569f-e72c-4588-a879-250784dceee8"
      },
      "execution_count": 31,
      "outputs": [
        {
          "output_type": "stream",
          "name": "stdout",
          "text": [
            "{1, 2, 3, 4, 5}\n"
          ]
        }
      ]
    },
    {
      "cell_type": "code",
      "source": [
        "#Write a code to find the intersection of two sets {1, 2, 3} and {2, 3, 4}\n",
        "a={1,2,3}\n",
        "b={3,4,5}\n",
        "c=a&b\n",
        "print(c)"
      ],
      "metadata": {
        "colab": {
          "base_uri": "https://localhost:8080/"
        },
        "id": "DJMq9GC4kxDJ",
        "outputId": "443ce5d5-de1e-4e36-f0a9-0c3d999b9fa8"
      },
      "execution_count": 32,
      "outputs": [
        {
          "output_type": "stream",
          "name": "stdout",
          "text": [
            "{3}\n"
          ]
        }
      ]
    },
    {
      "cell_type": "code",
      "source": [
        "#Write a code to create a dictionary with the keys \"name\", \"age\", and \"city\", and print it\n",
        "d={'name':'sayali','age':30,'city':'sangli'}\n",
        "print(d)"
      ],
      "metadata": {
        "colab": {
          "base_uri": "https://localhost:8080/"
        },
        "id": "tzzhDhURyyMq",
        "outputId": "fd3d2da4-6f26-4152-c521-03421ef173c3"
      },
      "execution_count": 33,
      "outputs": [
        {
          "output_type": "stream",
          "name": "stdout",
          "text": [
            "{'name': 'sayali', 'age': 30, 'city': 'sangli'}\n"
          ]
        }
      ]
    },
    {
      "cell_type": "code",
      "source": [
        "# Write a code to add  new key-value pair \"country\": \"USA\" to the dictionary {'name': 'John', 'age': 25}\n",
        "d={'name':'john','age':25}\n",
        "d1={'country':'USA'}\n",
        "d.update(d1)\n",
        "print(d)"
      ],
      "metadata": {
        "colab": {
          "base_uri": "https://localhost:8080/"
        },
        "id": "sztI71qMyyZX",
        "outputId": "943d66d2-b7c9-4f8a-f12d-89b05fad336a"
      },
      "execution_count": 38,
      "outputs": [
        {
          "output_type": "stream",
          "name": "stdout",
          "text": [
            "{'name': 'john', 'age': 25, 'country': 'USA'}\n"
          ]
        }
      ]
    },
    {
      "cell_type": "code",
      "source": [
        "#Write a code to access the value associated with the key \"name\" in the dictionary {'name': 'Alice', 'age': 30}\n",
        "d={'name':'Alice','age':30}\n",
        "d['name']"
      ],
      "metadata": {
        "colab": {
          "base_uri": "https://localhost:8080/",
          "height": 36
        },
        "id": "JS-peS0CkxWS",
        "outputId": "9cca2852-71d2-46bb-de38-23bb3f1a4983"
      },
      "execution_count": 41,
      "outputs": [
        {
          "output_type": "execute_result",
          "data": {
            "text/plain": [
              "'Alice'"
            ],
            "application/vnd.google.colaboratory.intrinsic+json": {
              "type": "string"
            }
          },
          "metadata": {},
          "execution_count": 41
        }
      ]
    },
    {
      "cell_type": "code",
      "source": [
        "#Write a code to remove the key \"age\" from the dictionary {'name': 'Bob', 'age': 22, 'city': 'New York'}\n",
        "d={'name':'Bob','age':22,'city':'New York'}\n",
        "d.pop('age')\n",
        "print(d)\n"
      ],
      "metadata": {
        "colab": {
          "base_uri": "https://localhost:8080/"
        },
        "id": "d79hzr5C1OCC",
        "outputId": "7c22aef2-49c5-4dc5-ede7-1de62db28f23"
      },
      "execution_count": 45,
      "outputs": [
        {
          "output_type": "stream",
          "name": "stdout",
          "text": [
            "{'name': 'Bob', 'city': 'New York'}\n"
          ]
        }
      ]
    },
    {
      "cell_type": "code",
      "source": [
        "# Write a code to check if the key \"city\" exists in the dictionary {'name': 'Alice', 'city': 'Paris'}\n",
        "dict={'name':'Alice','city':'Paris'}\n",
        "if \"city\" in dict:\n",
        "    print(\"Key exists.\")\n",
        "else:\n",
        "    print(\"Key does not exist.\")"
      ],
      "metadata": {
        "colab": {
          "base_uri": "https://localhost:8080/"
        },
        "id": "T0X0vBPK1OVj",
        "outputId": "6e689bc1-e4d0-4919-9d0c-99886437f8d1"
      },
      "execution_count": 12,
      "outputs": [
        {
          "output_type": "stream",
          "name": "stdout",
          "text": [
            "Key exists.\n"
          ]
        }
      ]
    },
    {
      "cell_type": "code",
      "source": [
        "#Write a code to create a list, a tuple, and a dictionary, and print them all.\n",
        "t=(1,2,3,4)\n",
        "d={\"a\":8,\"b\":9}\n",
        "l=['saya',5.6,True,3+5j,5]\n",
        "my_list=[t,d,l]\n",
        "print(my_list)"
      ],
      "metadata": {
        "colab": {
          "base_uri": "https://localhost:8080/"
        },
        "id": "JOh9WHSp1Oiy",
        "outputId": "9df39049-a865-41f2-bc76-934b967b230e"
      },
      "execution_count": 14,
      "outputs": [
        {
          "output_type": "stream",
          "name": "stdout",
          "text": [
            "[(1, 2, 3, 4), {'a': 8, 'b': 9}, ['saya', 5.6, True, (3+5j), 5]]\n"
          ]
        }
      ]
    },
    {
      "cell_type": "code",
      "source": [],
      "metadata": {
        "id": "yfBt20rB1Oxc"
      },
      "execution_count": null,
      "outputs": []
    },
    {
      "cell_type": "code",
      "source": [
        "#Write a code to create a list of 5 random numbers between 1 and 100, sort it in ascending order, and print the result.\n",
        "L=[99,60,100,3,50]\n",
        "L.sort()\n",
        "print(L)"
      ],
      "metadata": {
        "colab": {
          "base_uri": "https://localhost:8080/"
        },
        "id": "lLKiQW7_1O-I",
        "outputId": "6c44c582-bb9c-4554-b265-be38f1e8139e"
      },
      "execution_count": 1,
      "outputs": [
        {
          "output_type": "stream",
          "name": "stdout",
          "text": [
            "[3, 50, 60, 99, 100]\n"
          ]
        }
      ]
    },
    {
      "cell_type": "code",
      "source": [
        " # Write a code to create a list with strings and print the element at the third index.\n",
        " a=['sayali','adhiraj','vijay','didi']\n",
        " a[3]"
      ],
      "metadata": {
        "colab": {
          "base_uri": "https://localhost:8080/",
          "height": 36
        },
        "id": "1cOqHTJd1PNn",
        "outputId": "e676a765-7132-46a2-d0c0-1f98475900b1"
      },
      "execution_count": 2,
      "outputs": [
        {
          "output_type": "execute_result",
          "data": {
            "text/plain": [
              "'didi'"
            ],
            "application/vnd.google.colaboratory.intrinsic+json": {
              "type": "string"
            }
          },
          "metadata": {},
          "execution_count": 2
        }
      ]
    },
    {
      "cell_type": "code",
      "source": [
        "#Write a code to combine two dictionaries into one and print the result\n",
        "d1={'name':'adhiraj','age':2}\n",
        "d2={'city':'sangli','contact':1234}\n",
        "d1.update(d2)\n",
        "print(d1)"
      ],
      "metadata": {
        "colab": {
          "base_uri": "https://localhost:8080/"
        },
        "id": "sDWkxz9A1PoF",
        "outputId": "145927f3-7fc7-4da9-8aab-633ec9e83e84"
      },
      "execution_count": 3,
      "outputs": [
        {
          "output_type": "stream",
          "name": "stdout",
          "text": [
            "{'name': 'adhiraj', 'age': 2, 'city': 'sangli', 'contact': 1234}\n"
          ]
        }
      ]
    },
    {
      "cell_type": "code",
      "source": [
        "#Write a code to convert a list of strings into a set\n",
        "a=['sayali','riya','priya','disha','sona']\n",
        "b=set(a)\n",
        "print(b)"
      ],
      "metadata": {
        "colab": {
          "base_uri": "https://localhost:8080/"
        },
        "id": "sSE6xTD-_lI8",
        "outputId": "612ec649-7d12-4b1e-85b5-e95f6f8787b3"
      },
      "execution_count": 4,
      "outputs": [
        {
          "output_type": "stream",
          "name": "stdout",
          "text": [
            "{'sayali', 'priya', 'disha', 'sona', 'riya'}\n"
          ]
        }
      ]
    },
    {
      "cell_type": "code",
      "source": [],
      "metadata": {
        "id": "2REzMMPS_lYh"
      },
      "execution_count": null,
      "outputs": []
    }
  ]
}